{
 "cells": [
  {
   "cell_type": "code",
   "execution_count": 13,
   "metadata": {},
   "outputs": [],
   "source": [
    "import os\n",
    "import pandas as pd\n",
    "import numpy as np\n",
    "import torch\n",
    "import torchvision\n",
    "import shutil\n",
    "np.random.seed(123)\n"
   ]
  },
  {
   "cell_type": "code",
   "execution_count": 2,
   "metadata": {},
   "outputs": [
    {
     "data": {
      "text/html": [
       "<div>\n",
       "<style scoped>\n",
       "    .dataframe tbody tr th:only-of-type {\n",
       "        vertical-align: middle;\n",
       "    }\n",
       "\n",
       "    .dataframe tbody tr th {\n",
       "        vertical-align: top;\n",
       "    }\n",
       "\n",
       "    .dataframe thead th {\n",
       "        text-align: right;\n",
       "    }\n",
       "</style>\n",
       "<table border=\"1\" class=\"dataframe\">\n",
       "  <thead>\n",
       "    <tr style=\"text-align: right;\">\n",
       "      <th></th>\n",
       "      <th>Actor</th>\n",
       "      <th>n_videos</th>\n",
       "    </tr>\n",
       "  </thead>\n",
       "  <tbody>\n",
       "    <tr>\n",
       "      <th>0</th>\n",
       "      <td>Evo_Morales</td>\n",
       "      <td>3</td>\n",
       "    </tr>\n",
       "    <tr>\n",
       "      <th>1</th>\n",
       "      <td>Sanjay_Gupta</td>\n",
       "      <td>3</td>\n",
       "    </tr>\n",
       "    <tr>\n",
       "      <th>2</th>\n",
       "      <td>Rodrigo_de_la_Cerna</td>\n",
       "      <td>2</td>\n",
       "    </tr>\n",
       "    <tr>\n",
       "      <th>3</th>\n",
       "      <td>Lionel_Chalmers</td>\n",
       "      <td>1</td>\n",
       "    </tr>\n",
       "    <tr>\n",
       "      <th>4</th>\n",
       "      <td>Emma_Nicholson</td>\n",
       "      <td>3</td>\n",
       "    </tr>\n",
       "  </tbody>\n",
       "</table>\n",
       "</div>"
      ],
      "text/plain": [
       "                 Actor  n_videos\n",
       "0          Evo_Morales         3\n",
       "1         Sanjay_Gupta         3\n",
       "2  Rodrigo_de_la_Cerna         2\n",
       "3      Lionel_Chalmers         1\n",
       "4       Emma_Nicholson         3"
      ]
     },
     "execution_count": 2,
     "metadata": {},
     "output_type": "execute_result"
    }
   ],
   "source": [
    "dataset_path = os.path.join(\"database\",\"aligned_images_DB\")\n",
    "actors = os.listdir(dataset_path)\n",
    "actors_dict = dict()\n",
    "\n",
    "for actor in actors:\n",
    "    actors_dict[actor] = len(os.listdir(os.path.join(dataset_path,actor)))\n",
    "\n",
    "df = pd.DataFrame(actors_dict.items(),columns=['Actor','n_videos'])\n",
    "df.head()"
   ]
  },
  {
   "cell_type": "code",
   "execution_count": 3,
   "metadata": {},
   "outputs": [
    {
     "data": {
      "text/html": [
       "<div>\n",
       "<style scoped>\n",
       "    .dataframe tbody tr th:only-of-type {\n",
       "        vertical-align: middle;\n",
       "    }\n",
       "\n",
       "    .dataframe tbody tr th {\n",
       "        vertical-align: top;\n",
       "    }\n",
       "\n",
       "    .dataframe thead th {\n",
       "        text-align: right;\n",
       "    }\n",
       "</style>\n",
       "<table border=\"1\" class=\"dataframe\">\n",
       "  <thead>\n",
       "    <tr style=\"text-align: right;\">\n",
       "      <th></th>\n",
       "      <th>Actor</th>\n",
       "      <th>n_videos</th>\n",
       "    </tr>\n",
       "  </thead>\n",
       "  <tbody>\n",
       "    <tr>\n",
       "      <th>532</th>\n",
       "      <td>Robert_F_Kennedy_Jr</td>\n",
       "      <td>6</td>\n",
       "    </tr>\n",
       "    <tr>\n",
       "      <th>1354</th>\n",
       "      <td>Kevin_Spacey</td>\n",
       "      <td>6</td>\n",
       "    </tr>\n",
       "    <tr>\n",
       "      <th>946</th>\n",
       "      <td>David_Brent</td>\n",
       "      <td>6</td>\n",
       "    </tr>\n",
       "    <tr>\n",
       "      <th>592</th>\n",
       "      <td>Alison_Lohman</td>\n",
       "      <td>6</td>\n",
       "    </tr>\n",
       "    <tr>\n",
       "      <th>1039</th>\n",
       "      <td>Andrew_Bernard</td>\n",
       "      <td>6</td>\n",
       "    </tr>\n",
       "    <tr>\n",
       "      <th>1066</th>\n",
       "      <td>Robert_Nardelli</td>\n",
       "      <td>6</td>\n",
       "    </tr>\n",
       "    <tr>\n",
       "      <th>54</th>\n",
       "      <td>Alma_Powell</td>\n",
       "      <td>6</td>\n",
       "    </tr>\n",
       "    <tr>\n",
       "      <th>330</th>\n",
       "      <td>Lauren_Hutton</td>\n",
       "      <td>6</td>\n",
       "    </tr>\n",
       "    <tr>\n",
       "      <th>879</th>\n",
       "      <td>Angelo_Reyes</td>\n",
       "      <td>4</td>\n",
       "    </tr>\n",
       "    <tr>\n",
       "      <th>917</th>\n",
       "      <td>Agbani_Darego</td>\n",
       "      <td>4</td>\n",
       "    </tr>\n",
       "  </tbody>\n",
       "</table>\n",
       "</div>"
      ],
      "text/plain": [
       "                    Actor  n_videos\n",
       "532   Robert_F_Kennedy_Jr         6\n",
       "1354         Kevin_Spacey         6\n",
       "946           David_Brent         6\n",
       "592         Alison_Lohman         6\n",
       "1039       Andrew_Bernard         6\n",
       "1066      Robert_Nardelli         6\n",
       "54            Alma_Powell         6\n",
       "330         Lauren_Hutton         6\n",
       "879          Angelo_Reyes         4\n",
       "917         Agbani_Darego         4"
      ]
     },
     "execution_count": 3,
     "metadata": {},
     "output_type": "execute_result"
    }
   ],
   "source": [
    "df = df.sort_values(by='n_videos',ascending=False)\n",
    "df.head(10)\n"
   ]
  },
  {
   "cell_type": "code",
   "execution_count": 4,
   "metadata": {},
   "outputs": [
    {
     "data": {
      "text/plain": [
       "Actor       0\n",
       "n_videos    0\n",
       "dtype: int64"
      ]
     },
     "execution_count": 4,
     "metadata": {},
     "output_type": "execute_result"
    }
   ],
   "source": [
    "filtered_actors = df[df['n_videos'] == 5]\n",
    "filtered_actors.count()"
   ]
  },
  {
   "cell_type": "code",
   "execution_count": 5,
   "metadata": {},
   "outputs": [
    {
     "data": {
      "text/html": [
       "<div>\n",
       "<style scoped>\n",
       "    .dataframe tbody tr th:only-of-type {\n",
       "        vertical-align: middle;\n",
       "    }\n",
       "\n",
       "    .dataframe tbody tr th {\n",
       "        vertical-align: top;\n",
       "    }\n",
       "\n",
       "    .dataframe thead th {\n",
       "        text-align: right;\n",
       "    }\n",
       "</style>\n",
       "<table border=\"1\" class=\"dataframe\">\n",
       "  <thead>\n",
       "    <tr style=\"text-align: right;\">\n",
       "      <th></th>\n",
       "      <th>Actor</th>\n",
       "      <th>n_videos</th>\n",
       "    </tr>\n",
       "  </thead>\n",
       "  <tbody>\n",
       "  </tbody>\n",
       "</table>\n",
       "</div>"
      ],
      "text/plain": [
       "Empty DataFrame\n",
       "Columns: [Actor, n_videos]\n",
       "Index: []"
      ]
     },
     "execution_count": 5,
     "metadata": {},
     "output_type": "execute_result"
    }
   ],
   "source": [
    "filtered_actors.head(10)"
   ]
  },
  {
   "cell_type": "code",
   "execution_count": 6,
   "metadata": {},
   "outputs": [
    {
     "data": {
      "text/plain": [
       "Actor       51\n",
       "n_videos    51\n",
       "dtype: int64"
      ]
     },
     "execution_count": 6,
     "metadata": {},
     "output_type": "execute_result"
    }
   ],
   "source": [
    "filtered_actors.count()"
   ]
  },
  {
   "cell_type": "code",
   "execution_count": 6,
   "metadata": {},
   "outputs": [],
   "source": [
    "for actor in filtered_actors['Actor']:\n",
    "    actor_path = os.path.join(dataset_path,actor)\n",
    "    shutil.move(actor_path,os.path.join('filtered_database',actor))\n",
    "        "
   ]
  },
  {
   "cell_type": "code",
   "execution_count": 7,
   "metadata": {},
   "outputs": [
    {
     "data": {
      "text/plain": [
       "Dataset ImageFolder\n",
       "    Number of datapoints: 60191\n",
       "    Root location: filtered_database"
      ]
     },
     "execution_count": 7,
     "metadata": {},
     "output_type": "execute_result"
    }
   ],
   "source": [
    "dataset = torchvision.datasets.ImageFolder(\"filtered_database\")\n",
    "dataset"
   ]
  },
  {
   "cell_type": "code",
   "execution_count": 8,
   "metadata": {},
   "outputs": [
    {
     "data": {
      "text/plain": [
       "<torch.utils.data.dataset.Subset at 0x7f8ac49fad30>"
      ]
     },
     "execution_count": 8,
     "metadata": {},
     "output_type": "execute_result"
    }
   ],
   "source": [
    "dataset_subset = torch.utils.data.Subset(dataset, np.random.choice(len(dataset), 30*51, replace=False))\n",
    "\n",
    "dataset_subset"
   ]
  },
  {
   "cell_type": "code",
   "execution_count": 17,
   "metadata": {},
   "outputs": [],
   "source": [
    "number_of_frames = 100\n",
    "split = 0.2\n",
    "test_split = int(number_of_frames * split)\n",
    "train_split = number_of_frames - test_split\n",
    "\n",
    "for actor in os.listdir(\"filtered_database\"):\n",
    "    actor_frames = []\n",
    "    test_frames = []\n",
    "    for i,video in enumerate(os.listdir(os.path.join(\"filtered_database\",actor))):\n",
    "        if i != 4:\n",
    "            current_video = [os.path.join(\"filtered_database\",actor,video,f) for f in os.listdir(os.path.join(\"filtered_database\",actor,video))]\n",
    "            actor_frames = actor_frames + current_video\n",
    "        else:\n",
    "            test_video = [os.path.join(\"filtered_database\",actor,video,f) for f in os.listdir(os.path.join(\"filtered_database\",actor,video))]\n",
    "            np.random.shuffle(test_video)\n",
    "            test_frames = test_video[0:test_split]\n",
    "\n",
    "    np.random.shuffle(actor_frames)\n",
    "    train_frames = actor_frames[0:train_split]\n",
    "    \n",
    "    train_path = os.path.join(\"new_dataset\",\"train\",actor) \n",
    "    test_path = os.path.join(\"new_dataset\",\"test\",actor)\n",
    "    os.makedirs(train_path,exist_ok=True)\n",
    "    os.makedirs(test_path,exist_ok=True)\n",
    "    \n",
    "    for frame in train_frames:\n",
    "        filename = os.path.basename(frame)\n",
    "        \n",
    "        shutil.copyfile(frame, os.path.join(train_path,filename))\n",
    "    \n",
    "    for frame in test_frames:\n",
    "        filename = os.path.basename(frame)\n",
    "        \n",
    "        shutil.copyfile(frame, os.path.join(test_path,filename))\n",
    "    \n",
    "\n",
    "\n",
    "    \n",
    "    \n",
    "    \n"
   ]
  }
 ],
 "metadata": {
  "interpreter": {
   "hash": "47be4f1105172b44490eee60b06437a58c662ac9dbb8ba6ad4d9181289ffbb32"
  },
  "kernelspec": {
   "display_name": "Python 3.8.3 64-bit ('prog')",
   "language": "python",
   "name": "python3"
  },
  "language_info": {
   "codemirror_mode": {
    "name": "ipython",
    "version": 3
   },
   "file_extension": ".py",
   "mimetype": "text/x-python",
   "name": "python",
   "nbconvert_exporter": "python",
   "pygments_lexer": "ipython3",
   "version": "3.8.3"
  },
  "orig_nbformat": 4
 },
 "nbformat": 4,
 "nbformat_minor": 2
}
